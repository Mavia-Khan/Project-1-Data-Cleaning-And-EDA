{
 "cells": [
  {
   "cell_type": "code",
   "execution_count": 3,
   "metadata": {},
   "outputs": [],
   "source": [
    "import requests\n",
    "\n",
    "\n",
    "url = 'https://www.alphavantage.co/query?function=TIME_SERIES_DAILY&symbol=IBM&apikey=H16ANZSCN2SM9UU4'\n",
    "r = requests.get(url)\n",
    "data = r.json()"
   ]
  },
  {
   "cell_type": "code",
   "execution_count": null,
   "metadata": {},
   "outputs": [],
   "source": [
    "display(data[\"Time Series (Daily)\"])"
   ]
  },
  {
   "cell_type": "code",
   "execution_count": 2,
   "metadata": {},
   "outputs": [],
   "source": [
    "import  pandas as pd"
   ]
  },
  {
   "cell_type": "code",
   "execution_count": 4,
   "metadata": {},
   "outputs": [],
   "source": [
    "data=pd.read_csv(\"daily_IBM.csv\")"
   ]
  },
  {
   "cell_type": "code",
   "execution_count": 5,
   "metadata": {},
   "outputs": [
    {
     "data": {
      "text/html": [
       "<div>\n",
       "<style scoped>\n",
       "    .dataframe tbody tr th:only-of-type {\n",
       "        vertical-align: middle;\n",
       "    }\n",
       "\n",
       "    .dataframe tbody tr th {\n",
       "        vertical-align: top;\n",
       "    }\n",
       "\n",
       "    .dataframe thead th {\n",
       "        text-align: right;\n",
       "    }\n",
       "</style>\n",
       "<table border=\"1\" class=\"dataframe\">\n",
       "  <thead>\n",
       "    <tr style=\"text-align: right;\">\n",
       "      <th></th>\n",
       "      <th>timestamp</th>\n",
       "      <th>open</th>\n",
       "      <th>high</th>\n",
       "      <th>low</th>\n",
       "      <th>close</th>\n",
       "      <th>volume</th>\n",
       "    </tr>\n",
       "  </thead>\n",
       "  <tbody>\n",
       "    <tr>\n",
       "      <th>0</th>\n",
       "      <td>2024-10-11</td>\n",
       "      <td>233.25</td>\n",
       "      <td>233.440</td>\n",
       "      <td>230.4600</td>\n",
       "      <td>233.26</td>\n",
       "      <td>3469322</td>\n",
       "    </tr>\n",
       "    <tr>\n",
       "      <th>1</th>\n",
       "      <td>2024-10-10</td>\n",
       "      <td>235.10</td>\n",
       "      <td>235.830</td>\n",
       "      <td>231.8100</td>\n",
       "      <td>233.02</td>\n",
       "      <td>3142031</td>\n",
       "    </tr>\n",
       "    <tr>\n",
       "      <th>2</th>\n",
       "      <td>2024-10-09</td>\n",
       "      <td>229.20</td>\n",
       "      <td>234.950</td>\n",
       "      <td>228.5000</td>\n",
       "      <td>234.30</td>\n",
       "      <td>5083566</td>\n",
       "    </tr>\n",
       "    <tr>\n",
       "      <th>3</th>\n",
       "      <td>2024-10-08</td>\n",
       "      <td>228.11</td>\n",
       "      <td>229.345</td>\n",
       "      <td>227.0401</td>\n",
       "      <td>228.62</td>\n",
       "      <td>3245342</td>\n",
       "    </tr>\n",
       "    <tr>\n",
       "      <th>4</th>\n",
       "      <td>2024-10-07</td>\n",
       "      <td>225.38</td>\n",
       "      <td>227.670</td>\n",
       "      <td>225.0200</td>\n",
       "      <td>227.12</td>\n",
       "      <td>3457952</td>\n",
       "    </tr>\n",
       "    <tr>\n",
       "      <th>...</th>\n",
       "      <td>...</td>\n",
       "      <td>...</td>\n",
       "      <td>...</td>\n",
       "      <td>...</td>\n",
       "      <td>...</td>\n",
       "      <td>...</td>\n",
       "    </tr>\n",
       "    <tr>\n",
       "      <th>95</th>\n",
       "      <td>2024-05-28</td>\n",
       "      <td>170.44</td>\n",
       "      <td>171.085</td>\n",
       "      <td>168.6500</td>\n",
       "      <td>169.66</td>\n",
       "      <td>2629645</td>\n",
       "    </tr>\n",
       "    <tr>\n",
       "      <th>96</th>\n",
       "      <td>2024-05-24</td>\n",
       "      <td>171.48</td>\n",
       "      <td>172.010</td>\n",
       "      <td>170.2100</td>\n",
       "      <td>170.89</td>\n",
       "      <td>2587829</td>\n",
       "    </tr>\n",
       "    <tr>\n",
       "      <th>97</th>\n",
       "      <td>2024-05-23</td>\n",
       "      <td>175.39</td>\n",
       "      <td>175.460</td>\n",
       "      <td>170.4350</td>\n",
       "      <td>170.67</td>\n",
       "      <td>3341335</td>\n",
       "    </tr>\n",
       "    <tr>\n",
       "      <th>98</th>\n",
       "      <td>2024-05-22</td>\n",
       "      <td>173.39</td>\n",
       "      <td>174.990</td>\n",
       "      <td>172.7600</td>\n",
       "      <td>173.69</td>\n",
       "      <td>3294900</td>\n",
       "    </tr>\n",
       "    <tr>\n",
       "      <th>99</th>\n",
       "      <td>2024-05-21</td>\n",
       "      <td>169.94</td>\n",
       "      <td>174.970</td>\n",
       "      <td>169.9400</td>\n",
       "      <td>173.47</td>\n",
       "      <td>6459800</td>\n",
       "    </tr>\n",
       "  </tbody>\n",
       "</table>\n",
       "<p>100 rows × 6 columns</p>\n",
       "</div>"
      ],
      "text/plain": [
       "     timestamp    open     high       low   close   volume\n",
       "0   2024-10-11  233.25  233.440  230.4600  233.26  3469322\n",
       "1   2024-10-10  235.10  235.830  231.8100  233.02  3142031\n",
       "2   2024-10-09  229.20  234.950  228.5000  234.30  5083566\n",
       "3   2024-10-08  228.11  229.345  227.0401  228.62  3245342\n",
       "4   2024-10-07  225.38  227.670  225.0200  227.12  3457952\n",
       "..         ...     ...      ...       ...     ...      ...\n",
       "95  2024-05-28  170.44  171.085  168.6500  169.66  2629645\n",
       "96  2024-05-24  171.48  172.010  170.2100  170.89  2587829\n",
       "97  2024-05-23  175.39  175.460  170.4350  170.67  3341335\n",
       "98  2024-05-22  173.39  174.990  172.7600  173.69  3294900\n",
       "99  2024-05-21  169.94  174.970  169.9400  173.47  6459800\n",
       "\n",
       "[100 rows x 6 columns]"
      ]
     },
     "execution_count": 5,
     "metadata": {},
     "output_type": "execute_result"
    }
   ],
   "source": [
    "data"
   ]
  },
  {
   "cell_type": "code",
   "execution_count": 6,
   "metadata": {},
   "outputs": [],
   "source": [
    "features = ['open', 'high', 'low', 'volume']  # Independent variables\n",
    "target = 'close'  # Dependent variable (what we want to predict)\n",
    "\n",
    "X = data[features]\n",
    "y = data[target]"
   ]
  },
  {
   "cell_type": "code",
   "execution_count": 7,
   "metadata": {},
   "outputs": [
    {
     "name": "stdout",
     "output_type": "stream",
     "text": [
      "timestamp    0\n",
      "open         0\n",
      "high         0\n",
      "low          0\n",
      "close        0\n",
      "volume       0\n",
      "dtype: int64\n"
     ]
    }
   ],
   "source": [
    "# Check for missing values\n",
    "print(data.isnull().sum())\n"
   ]
  },
  {
   "cell_type": "code",
   "execution_count": 8,
   "metadata": {},
   "outputs": [
    {
     "name": "stdout",
     "output_type": "stream",
     "text": [
      "             open        high         low       close        volume\n",
      "count  100.000000  100.000000  100.000000  100.000000  1.000000e+02\n",
      "mean   191.411700  193.200899  189.835112  191.842200  3.647451e+06\n",
      "std     19.189641   19.410619   19.064001   19.431756  1.487788e+06\n",
      "min    164.600000  166.400000  163.530000  165.280000  1.649049e+06\n",
      "25%    174.650000  175.679450  172.425000  173.862500  2.748582e+06\n",
      "50%    189.535000  192.103050  187.645000  190.325000  3.358962e+06\n",
      "75%    202.805000  205.245000  201.077500  203.675000  4.093832e+06\n",
      "max    235.100000  235.830000  231.810000  234.300000  1.018202e+07\n"
     ]
    }
   ],
   "source": [
    "print(data.describe())"
   ]
  },
  {
   "cell_type": "code",
   "execution_count": 10,
   "metadata": {},
   "outputs": [],
   "source": [
    "data['timestamp'] = pd.to_datetime(data['timestamp'])\n"
   ]
  },
  {
   "cell_type": "code",
   "execution_count": 11,
   "metadata": {},
   "outputs": [
    {
     "data": {
      "image/png": "[encoded data removed]",
      "text/plain": [
       "<Figure size 640x480 with 2 Axes>"
      ]
     },
     "metadata": {},
     "output_type": "display_data"
    }
   ],
   "source": [
    "import seaborn as sns\n",
    "import matplotlib.pyplot as plt\n",
    "\n",
    "correlation_matrix = data.corr()\n",
    "sns.heatmap(correlation_matrix, annot=True, cmap='coolwarm')\n",
    "plt.show()\n"
   ]
  },
  {
   "cell_type": "code",
   "execution_count": null,
   "metadata": {},
   "outputs": [],
   "source": []
  },
  {
   "cell_type": "code",
   "execution_count": null,
   "metadata": {},
   "outputs": [],
   "source": []
  },
  {
   "cell_type": "code",
   "execution_count": null,
   "metadata": {},
   "outputs": [],
   "source": []
  }
 ],
 "metadata": {
  "kernelspec": {
   "display_name": "Python 3",
   "language": "python",
   "name": "python3"
  },
  "language_info": {
   "codemirror_mode": {
    "name": "ipython",
    "version": 3
   },
   "file_extension": ".py",
   "mimetype": "text/x-python",
   "name": "python",
   "nbconvert_exporter": "python",
   "pygments_lexer": "ipython3",
   "version": "3.10.12"
  }
 },
 "nbformat": 4,
 "nbformat_minor": 2
}
